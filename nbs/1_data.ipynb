{
 "cells": [
  {
   "cell_type": "code",
   "execution_count": 1,
   "metadata": {},
   "outputs": [],
   "source": [
    "%matplotlib inline\n",
    "import matplotlib.pyplot as plt\n",
    "from tqdm import tqdm\n",
    "import numpy as np\n",
    "import pandas as pd\n",
    "\n",
    "#\n",
    "import networkx as nx\n",
    "from scipy.spatial.distance import pdist"
   ]
  },
  {
   "cell_type": "code",
   "execution_count": 2,
   "metadata": {},
   "outputs": [
    {
     "name": "stdout",
     "output_type": "stream",
     "text": [
      "../data/1_average_coupling.csv\t\t   ../data/structures.csv\r\n",
      "../data/dipole_moments.csv\t\t   ../data/test_4_more_features.csv\r\n",
      "../data/magnetic_shielding_tensors.csv\t   ../data/test.csv\r\n",
      "../data/mulliken_charges.csv\t\t   ../data/test_tmp.csv\r\n",
      "../data/potential_energy.csv\t\t   ../data/train_4_more_features.csv\r\n",
      "../data/sample_submission.csv\t\t   ../data/train.csv\r\n",
      "../data/scalar_coupling_contributions.csv  ../data/train_tmp.csv\r\n"
     ]
    }
   ],
   "source": [
    "! ls ../data/*.csv"
   ]
  },
  {
   "cell_type": "code",
   "execution_count": 3,
   "metadata": {},
   "outputs": [],
   "source": [
    "from pathlib import Path\n",
    "PATH = Path('../data')"
   ]
  },
  {
   "cell_type": "code",
   "execution_count": 4,
   "metadata": {},
   "outputs": [],
   "source": [
    "dipole = pd.read_csv(PATH/'dipole_moments.csv')\n",
    "ms_tensors = pd.read_csv(PATH/'magnetic_shielding_tensors.csv')\n",
    "charges = pd.read_csv(PATH/'mulliken_charges.csv')\n",
    "energy = pd.read_csv(PATH/'potential_energy.csv')\n",
    "coupling = pd.read_csv(PATH/'scalar_coupling_contributions.csv')\n",
    "structures = pd.read_csv(PATH/'structures.csv')"
   ]
  },
  {
   "cell_type": "code",
   "execution_count": 5,
   "metadata": {},
   "outputs": [
    {
     "data": {
      "text/html": [
       "<div>\n",
       "<style scoped>\n",
       "    .dataframe tbody tr th:only-of-type {\n",
       "        vertical-align: middle;\n",
       "    }\n",
       "\n",
       "    .dataframe tbody tr th {\n",
       "        vertical-align: top;\n",
       "    }\n",
       "\n",
       "    .dataframe thead th {\n",
       "        text-align: right;\n",
       "    }\n",
       "</style>\n",
       "<table border=\"1\" class=\"dataframe\">\n",
       "  <thead>\n",
       "    <tr style=\"text-align: right;\">\n",
       "      <th></th>\n",
       "      <th>molecule_name</th>\n",
       "      <th>X</th>\n",
       "      <th>Y</th>\n",
       "      <th>Z</th>\n",
       "    </tr>\n",
       "  </thead>\n",
       "  <tbody>\n",
       "    <tr>\n",
       "      <th>0</th>\n",
       "      <td>dsgdb9nsd_000001</td>\n",
       "      <td>0.0000</td>\n",
       "      <td>0.0</td>\n",
       "      <td>0.0000</td>\n",
       "    </tr>\n",
       "    <tr>\n",
       "      <th>1</th>\n",
       "      <td>dsgdb9nsd_000002</td>\n",
       "      <td>-0.0002</td>\n",
       "      <td>0.0</td>\n",
       "      <td>1.6256</td>\n",
       "    </tr>\n",
       "    <tr>\n",
       "      <th>2</th>\n",
       "      <td>dsgdb9nsd_000003</td>\n",
       "      <td>0.0000</td>\n",
       "      <td>0.0</td>\n",
       "      <td>-1.8511</td>\n",
       "    </tr>\n",
       "    <tr>\n",
       "      <th>3</th>\n",
       "      <td>dsgdb9nsd_000005</td>\n",
       "      <td>0.0000</td>\n",
       "      <td>0.0</td>\n",
       "      <td>-2.8937</td>\n",
       "    </tr>\n",
       "    <tr>\n",
       "      <th>4</th>\n",
       "      <td>dsgdb9nsd_000007</td>\n",
       "      <td>0.0000</td>\n",
       "      <td>0.0</td>\n",
       "      <td>0.0000</td>\n",
       "    </tr>\n",
       "  </tbody>\n",
       "</table>\n",
       "</div>"
      ],
      "text/plain": [
       "      molecule_name       X    Y       Z\n",
       "0  dsgdb9nsd_000001  0.0000  0.0  0.0000\n",
       "1  dsgdb9nsd_000002 -0.0002  0.0  1.6256\n",
       "2  dsgdb9nsd_000003  0.0000  0.0 -1.8511\n",
       "3  dsgdb9nsd_000005  0.0000  0.0 -2.8937\n",
       "4  dsgdb9nsd_000007  0.0000  0.0  0.0000"
      ]
     },
     "execution_count": 5,
     "metadata": {},
     "output_type": "execute_result"
    }
   ],
   "source": [
    "dipole.head()"
   ]
  },
  {
   "cell_type": "code",
   "execution_count": 6,
   "metadata": {},
   "outputs": [
    {
     "data": {
      "text/html": [
       "<div>\n",
       "<style scoped>\n",
       "    .dataframe tbody tr th:only-of-type {\n",
       "        vertical-align: middle;\n",
       "    }\n",
       "\n",
       "    .dataframe tbody tr th {\n",
       "        vertical-align: top;\n",
       "    }\n",
       "\n",
       "    .dataframe thead th {\n",
       "        text-align: right;\n",
       "    }\n",
       "</style>\n",
       "<table border=\"1\" class=\"dataframe\">\n",
       "  <thead>\n",
       "    <tr style=\"text-align: right;\">\n",
       "      <th></th>\n",
       "      <th>molecule_name</th>\n",
       "      <th>atom_index</th>\n",
       "      <th>XX</th>\n",
       "      <th>YX</th>\n",
       "      <th>ZX</th>\n",
       "      <th>XY</th>\n",
       "      <th>YY</th>\n",
       "      <th>ZY</th>\n",
       "      <th>XZ</th>\n",
       "      <th>YZ</th>\n",
       "      <th>ZZ</th>\n",
       "    </tr>\n",
       "  </thead>\n",
       "  <tbody>\n",
       "    <tr>\n",
       "      <th>0</th>\n",
       "      <td>dsgdb9nsd_000001</td>\n",
       "      <td>0</td>\n",
       "      <td>195.3150</td>\n",
       "      <td>0.0000</td>\n",
       "      <td>-0.0001</td>\n",
       "      <td>0.0000</td>\n",
       "      <td>195.3170</td>\n",
       "      <td>0.0007</td>\n",
       "      <td>-0.0001</td>\n",
       "      <td>0.0007</td>\n",
       "      <td>195.3170</td>\n",
       "    </tr>\n",
       "    <tr>\n",
       "      <th>1</th>\n",
       "      <td>dsgdb9nsd_000001</td>\n",
       "      <td>1</td>\n",
       "      <td>31.3410</td>\n",
       "      <td>-1.2317</td>\n",
       "      <td>4.0544</td>\n",
       "      <td>-1.2317</td>\n",
       "      <td>28.9546</td>\n",
       "      <td>-1.7173</td>\n",
       "      <td>4.0546</td>\n",
       "      <td>-1.7173</td>\n",
       "      <td>34.0861</td>\n",
       "    </tr>\n",
       "    <tr>\n",
       "      <th>2</th>\n",
       "      <td>dsgdb9nsd_000001</td>\n",
       "      <td>2</td>\n",
       "      <td>31.5814</td>\n",
       "      <td>1.2173</td>\n",
       "      <td>-4.1474</td>\n",
       "      <td>1.2173</td>\n",
       "      <td>28.9036</td>\n",
       "      <td>-1.6036</td>\n",
       "      <td>-4.1476</td>\n",
       "      <td>-1.6036</td>\n",
       "      <td>33.8967</td>\n",
       "    </tr>\n",
       "    <tr>\n",
       "      <th>3</th>\n",
       "      <td>dsgdb9nsd_000001</td>\n",
       "      <td>3</td>\n",
       "      <td>31.5172</td>\n",
       "      <td>4.1086</td>\n",
       "      <td>1.2723</td>\n",
       "      <td>4.1088</td>\n",
       "      <td>33.9068</td>\n",
       "      <td>1.6950</td>\n",
       "      <td>1.2724</td>\n",
       "      <td>1.6951</td>\n",
       "      <td>28.9579</td>\n",
       "    </tr>\n",
       "    <tr>\n",
       "      <th>4</th>\n",
       "      <td>dsgdb9nsd_000001</td>\n",
       "      <td>4</td>\n",
       "      <td>31.4029</td>\n",
       "      <td>-4.0942</td>\n",
       "      <td>-1.1793</td>\n",
       "      <td>-4.0944</td>\n",
       "      <td>34.0776</td>\n",
       "      <td>1.6259</td>\n",
       "      <td>-1.1795</td>\n",
       "      <td>1.6260</td>\n",
       "      <td>28.9013</td>\n",
       "    </tr>\n",
       "  </tbody>\n",
       "</table>\n",
       "</div>"
      ],
      "text/plain": [
       "      molecule_name  atom_index        XX      YX      ZX      XY        YY  \\\n",
       "0  dsgdb9nsd_000001           0  195.3150  0.0000 -0.0001  0.0000  195.3170   \n",
       "1  dsgdb9nsd_000001           1   31.3410 -1.2317  4.0544 -1.2317   28.9546   \n",
       "2  dsgdb9nsd_000001           2   31.5814  1.2173 -4.1474  1.2173   28.9036   \n",
       "3  dsgdb9nsd_000001           3   31.5172  4.1086  1.2723  4.1088   33.9068   \n",
       "4  dsgdb9nsd_000001           4   31.4029 -4.0942 -1.1793 -4.0944   34.0776   \n",
       "\n",
       "       ZY      XZ      YZ        ZZ  \n",
       "0  0.0007 -0.0001  0.0007  195.3170  \n",
       "1 -1.7173  4.0546 -1.7173   34.0861  \n",
       "2 -1.6036 -4.1476 -1.6036   33.8967  \n",
       "3  1.6950  1.2724  1.6951   28.9579  \n",
       "4  1.6259 -1.1795  1.6260   28.9013  "
      ]
     },
     "execution_count": 6,
     "metadata": {},
     "output_type": "execute_result"
    }
   ],
   "source": [
    "ms_tensors.head()"
   ]
  },
  {
   "cell_type": "code",
   "execution_count": 7,
   "metadata": {},
   "outputs": [
    {
     "data": {
      "text/html": [
       "<div>\n",
       "<style scoped>\n",
       "    .dataframe tbody tr th:only-of-type {\n",
       "        vertical-align: middle;\n",
       "    }\n",
       "\n",
       "    .dataframe tbody tr th {\n",
       "        vertical-align: top;\n",
       "    }\n",
       "\n",
       "    .dataframe thead th {\n",
       "        text-align: right;\n",
       "    }\n",
       "</style>\n",
       "<table border=\"1\" class=\"dataframe\">\n",
       "  <thead>\n",
       "    <tr style=\"text-align: right;\">\n",
       "      <th></th>\n",
       "      <th>molecule_name</th>\n",
       "      <th>atom_index</th>\n",
       "      <th>mulliken_charge</th>\n",
       "    </tr>\n",
       "  </thead>\n",
       "  <tbody>\n",
       "    <tr>\n",
       "      <th>0</th>\n",
       "      <td>dsgdb9nsd_000001</td>\n",
       "      <td>0</td>\n",
       "      <td>-0.535689</td>\n",
       "    </tr>\n",
       "    <tr>\n",
       "      <th>1</th>\n",
       "      <td>dsgdb9nsd_000001</td>\n",
       "      <td>1</td>\n",
       "      <td>0.133921</td>\n",
       "    </tr>\n",
       "    <tr>\n",
       "      <th>2</th>\n",
       "      <td>dsgdb9nsd_000001</td>\n",
       "      <td>2</td>\n",
       "      <td>0.133922</td>\n",
       "    </tr>\n",
       "    <tr>\n",
       "      <th>3</th>\n",
       "      <td>dsgdb9nsd_000001</td>\n",
       "      <td>3</td>\n",
       "      <td>0.133923</td>\n",
       "    </tr>\n",
       "    <tr>\n",
       "      <th>4</th>\n",
       "      <td>dsgdb9nsd_000001</td>\n",
       "      <td>4</td>\n",
       "      <td>0.133923</td>\n",
       "    </tr>\n",
       "  </tbody>\n",
       "</table>\n",
       "</div>"
      ],
      "text/plain": [
       "      molecule_name  atom_index  mulliken_charge\n",
       "0  dsgdb9nsd_000001           0        -0.535689\n",
       "1  dsgdb9nsd_000001           1         0.133921\n",
       "2  dsgdb9nsd_000001           2         0.133922\n",
       "3  dsgdb9nsd_000001           3         0.133923\n",
       "4  dsgdb9nsd_000001           4         0.133923"
      ]
     },
     "execution_count": 7,
     "metadata": {},
     "output_type": "execute_result"
    }
   ],
   "source": [
    "charges.head()"
   ]
  },
  {
   "cell_type": "code",
   "execution_count": 8,
   "metadata": {},
   "outputs": [
    {
     "data": {
      "text/html": [
       "<div>\n",
       "<style scoped>\n",
       "    .dataframe tbody tr th:only-of-type {\n",
       "        vertical-align: middle;\n",
       "    }\n",
       "\n",
       "    .dataframe tbody tr th {\n",
       "        vertical-align: top;\n",
       "    }\n",
       "\n",
       "    .dataframe thead th {\n",
       "        text-align: right;\n",
       "    }\n",
       "</style>\n",
       "<table border=\"1\" class=\"dataframe\">\n",
       "  <thead>\n",
       "    <tr style=\"text-align: right;\">\n",
       "      <th></th>\n",
       "      <th>molecule_name</th>\n",
       "      <th>atom_index_0</th>\n",
       "      <th>atom_index_1</th>\n",
       "      <th>type</th>\n",
       "      <th>fc</th>\n",
       "      <th>sd</th>\n",
       "      <th>pso</th>\n",
       "      <th>dso</th>\n",
       "    </tr>\n",
       "  </thead>\n",
       "  <tbody>\n",
       "    <tr>\n",
       "      <th>4658142</th>\n",
       "      <td>dsgdb9nsd_133884</td>\n",
       "      <td>17</td>\n",
       "      <td>4</td>\n",
       "      <td>2JHC</td>\n",
       "      <td>3.586440</td>\n",
       "      <td>0.019741</td>\n",
       "      <td>0.150477</td>\n",
       "      <td>-0.213205</td>\n",
       "    </tr>\n",
       "    <tr>\n",
       "      <th>4658143</th>\n",
       "      <td>dsgdb9nsd_133884</td>\n",
       "      <td>17</td>\n",
       "      <td>5</td>\n",
       "      <td>3JHC</td>\n",
       "      <td>0.674583</td>\n",
       "      <td>-0.007276</td>\n",
       "      <td>0.305078</td>\n",
       "      <td>-0.403388</td>\n",
       "    </tr>\n",
       "    <tr>\n",
       "      <th>4658144</th>\n",
       "      <td>dsgdb9nsd_133884</td>\n",
       "      <td>17</td>\n",
       "      <td>6</td>\n",
       "      <td>3JHC</td>\n",
       "      <td>1.337470</td>\n",
       "      <td>-0.028423</td>\n",
       "      <td>0.312240</td>\n",
       "      <td>-0.447920</td>\n",
       "    </tr>\n",
       "    <tr>\n",
       "      <th>4658145</th>\n",
       "      <td>dsgdb9nsd_133884</td>\n",
       "      <td>17</td>\n",
       "      <td>7</td>\n",
       "      <td>2JHC</td>\n",
       "      <td>4.800620</td>\n",
       "      <td>0.139202</td>\n",
       "      <td>-0.053102</td>\n",
       "      <td>-0.124710</td>\n",
       "    </tr>\n",
       "    <tr>\n",
       "      <th>4658146</th>\n",
       "      <td>dsgdb9nsd_133884</td>\n",
       "      <td>17</td>\n",
       "      <td>8</td>\n",
       "      <td>1JHC</td>\n",
       "      <td>115.975000</td>\n",
       "      <td>0.378277</td>\n",
       "      <td>0.450213</td>\n",
       "      <td>1.130600</td>\n",
       "    </tr>\n",
       "  </tbody>\n",
       "</table>\n",
       "</div>"
      ],
      "text/plain": [
       "            molecule_name  atom_index_0  atom_index_1  type          fc  \\\n",
       "4658142  dsgdb9nsd_133884            17             4  2JHC    3.586440   \n",
       "4658143  dsgdb9nsd_133884            17             5  3JHC    0.674583   \n",
       "4658144  dsgdb9nsd_133884            17             6  3JHC    1.337470   \n",
       "4658145  dsgdb9nsd_133884            17             7  2JHC    4.800620   \n",
       "4658146  dsgdb9nsd_133884            17             8  1JHC  115.975000   \n",
       "\n",
       "               sd       pso       dso  \n",
       "4658142  0.019741  0.150477 -0.213205  \n",
       "4658143 -0.007276  0.305078 -0.403388  \n",
       "4658144 -0.028423  0.312240 -0.447920  \n",
       "4658145  0.139202 -0.053102 -0.124710  \n",
       "4658146  0.378277  0.450213  1.130600  "
      ]
     },
     "execution_count": 8,
     "metadata": {},
     "output_type": "execute_result"
    }
   ],
   "source": [
    "coupling.tail()"
   ]
  },
  {
   "cell_type": "code",
   "execution_count": 9,
   "metadata": {},
   "outputs": [
    {
     "data": {
      "text/plain": [
       "array(['1JHC', '2JHH', '1JHN', '2JHN', '2JHC', '3JHH', '3JHC', '3JHN'],\n",
       "      dtype=object)"
      ]
     },
     "execution_count": 9,
     "metadata": {},
     "output_type": "execute_result"
    }
   ],
   "source": [
    "coupling.type.unique()"
   ]
  },
  {
   "cell_type": "code",
   "execution_count": 10,
   "metadata": {},
   "outputs": [
    {
     "data": {
      "text/html": [
       "<div>\n",
       "<style scoped>\n",
       "    .dataframe tbody tr th:only-of-type {\n",
       "        vertical-align: middle;\n",
       "    }\n",
       "\n",
       "    .dataframe tbody tr th {\n",
       "        vertical-align: top;\n",
       "    }\n",
       "\n",
       "    .dataframe thead th {\n",
       "        text-align: right;\n",
       "    }\n",
       "</style>\n",
       "<table border=\"1\" class=\"dataframe\">\n",
       "  <thead>\n",
       "    <tr style=\"text-align: right;\">\n",
       "      <th></th>\n",
       "      <th>molecule_name</th>\n",
       "      <th>atom_index</th>\n",
       "      <th>atom</th>\n",
       "      <th>x</th>\n",
       "      <th>y</th>\n",
       "      <th>z</th>\n",
       "    </tr>\n",
       "  </thead>\n",
       "  <tbody>\n",
       "    <tr>\n",
       "      <th>0</th>\n",
       "      <td>dsgdb9nsd_000001</td>\n",
       "      <td>0</td>\n",
       "      <td>C</td>\n",
       "      <td>-0.012698</td>\n",
       "      <td>1.085804</td>\n",
       "      <td>0.008001</td>\n",
       "    </tr>\n",
       "    <tr>\n",
       "      <th>1</th>\n",
       "      <td>dsgdb9nsd_000001</td>\n",
       "      <td>1</td>\n",
       "      <td>H</td>\n",
       "      <td>0.002150</td>\n",
       "      <td>-0.006031</td>\n",
       "      <td>0.001976</td>\n",
       "    </tr>\n",
       "    <tr>\n",
       "      <th>2</th>\n",
       "      <td>dsgdb9nsd_000001</td>\n",
       "      <td>2</td>\n",
       "      <td>H</td>\n",
       "      <td>1.011731</td>\n",
       "      <td>1.463751</td>\n",
       "      <td>0.000277</td>\n",
       "    </tr>\n",
       "    <tr>\n",
       "      <th>3</th>\n",
       "      <td>dsgdb9nsd_000001</td>\n",
       "      <td>3</td>\n",
       "      <td>H</td>\n",
       "      <td>-0.540815</td>\n",
       "      <td>1.447527</td>\n",
       "      <td>-0.876644</td>\n",
       "    </tr>\n",
       "    <tr>\n",
       "      <th>4</th>\n",
       "      <td>dsgdb9nsd_000001</td>\n",
       "      <td>4</td>\n",
       "      <td>H</td>\n",
       "      <td>-0.523814</td>\n",
       "      <td>1.437933</td>\n",
       "      <td>0.906397</td>\n",
       "    </tr>\n",
       "  </tbody>\n",
       "</table>\n",
       "</div>"
      ],
      "text/plain": [
       "      molecule_name  atom_index atom         x         y         z\n",
       "0  dsgdb9nsd_000001           0    C -0.012698  1.085804  0.008001\n",
       "1  dsgdb9nsd_000001           1    H  0.002150 -0.006031  0.001976\n",
       "2  dsgdb9nsd_000001           2    H  1.011731  1.463751  0.000277\n",
       "3  dsgdb9nsd_000001           3    H -0.540815  1.447527 -0.876644\n",
       "4  dsgdb9nsd_000001           4    H -0.523814  1.437933  0.906397"
      ]
     },
     "execution_count": 10,
     "metadata": {},
     "output_type": "execute_result"
    }
   ],
   "source": [
    "structures.head()"
   ]
  },
  {
   "cell_type": "code",
   "execution_count": 11,
   "metadata": {},
   "outputs": [],
   "source": [
    "train = pd.read_csv(PATH/'train.csv')\n",
    "test = pd.read_csv(PATH/'test.csv')"
   ]
  },
  {
   "cell_type": "code",
   "execution_count": 12,
   "metadata": {},
   "outputs": [
    {
     "data": {
      "text/html": [
       "<div>\n",
       "<style scoped>\n",
       "    .dataframe tbody tr th:only-of-type {\n",
       "        vertical-align: middle;\n",
       "    }\n",
       "\n",
       "    .dataframe tbody tr th {\n",
       "        vertical-align: top;\n",
       "    }\n",
       "\n",
       "    .dataframe thead th {\n",
       "        text-align: right;\n",
       "    }\n",
       "</style>\n",
       "<table border=\"1\" class=\"dataframe\">\n",
       "  <thead>\n",
       "    <tr style=\"text-align: right;\">\n",
       "      <th></th>\n",
       "      <th>id</th>\n",
       "      <th>molecule_name</th>\n",
       "      <th>atom_index_0</th>\n",
       "      <th>atom_index_1</th>\n",
       "      <th>type</th>\n",
       "      <th>scalar_coupling_constant</th>\n",
       "    </tr>\n",
       "  </thead>\n",
       "  <tbody>\n",
       "    <tr>\n",
       "      <th>0</th>\n",
       "      <td>0</td>\n",
       "      <td>dsgdb9nsd_000001</td>\n",
       "      <td>1</td>\n",
       "      <td>0</td>\n",
       "      <td>1JHC</td>\n",
       "      <td>84.8076</td>\n",
       "    </tr>\n",
       "    <tr>\n",
       "      <th>1</th>\n",
       "      <td>1</td>\n",
       "      <td>dsgdb9nsd_000001</td>\n",
       "      <td>1</td>\n",
       "      <td>2</td>\n",
       "      <td>2JHH</td>\n",
       "      <td>-11.2570</td>\n",
       "    </tr>\n",
       "    <tr>\n",
       "      <th>2</th>\n",
       "      <td>2</td>\n",
       "      <td>dsgdb9nsd_000001</td>\n",
       "      <td>1</td>\n",
       "      <td>3</td>\n",
       "      <td>2JHH</td>\n",
       "      <td>-11.2548</td>\n",
       "    </tr>\n",
       "    <tr>\n",
       "      <th>3</th>\n",
       "      <td>3</td>\n",
       "      <td>dsgdb9nsd_000001</td>\n",
       "      <td>1</td>\n",
       "      <td>4</td>\n",
       "      <td>2JHH</td>\n",
       "      <td>-11.2543</td>\n",
       "    </tr>\n",
       "    <tr>\n",
       "      <th>4</th>\n",
       "      <td>4</td>\n",
       "      <td>dsgdb9nsd_000001</td>\n",
       "      <td>2</td>\n",
       "      <td>0</td>\n",
       "      <td>1JHC</td>\n",
       "      <td>84.8074</td>\n",
       "    </tr>\n",
       "  </tbody>\n",
       "</table>\n",
       "</div>"
      ],
      "text/plain": [
       "   id     molecule_name  atom_index_0  atom_index_1  type  \\\n",
       "0   0  dsgdb9nsd_000001             1             0  1JHC   \n",
       "1   1  dsgdb9nsd_000001             1             2  2JHH   \n",
       "2   2  dsgdb9nsd_000001             1             3  2JHH   \n",
       "3   3  dsgdb9nsd_000001             1             4  2JHH   \n",
       "4   4  dsgdb9nsd_000001             2             0  1JHC   \n",
       "\n",
       "   scalar_coupling_constant  \n",
       "0                   84.8076  \n",
       "1                  -11.2570  \n",
       "2                  -11.2548  \n",
       "3                  -11.2543  \n",
       "4                   84.8074  "
      ]
     },
     "execution_count": 12,
     "metadata": {},
     "output_type": "execute_result"
    }
   ],
   "source": [
    "train.head()"
   ]
  },
  {
   "cell_type": "code",
   "execution_count": 13,
   "metadata": {},
   "outputs": [
    {
     "data": {
      "text/html": [
       "<div>\n",
       "<style scoped>\n",
       "    .dataframe tbody tr th:only-of-type {\n",
       "        vertical-align: middle;\n",
       "    }\n",
       "\n",
       "    .dataframe tbody tr th {\n",
       "        vertical-align: top;\n",
       "    }\n",
       "\n",
       "    .dataframe thead th {\n",
       "        text-align: right;\n",
       "    }\n",
       "</style>\n",
       "<table border=\"1\" class=\"dataframe\">\n",
       "  <thead>\n",
       "    <tr style=\"text-align: right;\">\n",
       "      <th></th>\n",
       "      <th>id</th>\n",
       "      <th>molecule_name</th>\n",
       "      <th>atom_index_0</th>\n",
       "      <th>atom_index_1</th>\n",
       "      <th>type</th>\n",
       "      <th>scalar_coupling_constant</th>\n",
       "    </tr>\n",
       "  </thead>\n",
       "  <tbody>\n",
       "    <tr>\n",
       "      <th>4658142</th>\n",
       "      <td>4658142</td>\n",
       "      <td>dsgdb9nsd_133884</td>\n",
       "      <td>17</td>\n",
       "      <td>4</td>\n",
       "      <td>2JHC</td>\n",
       "      <td>3.543450</td>\n",
       "    </tr>\n",
       "    <tr>\n",
       "      <th>4658143</th>\n",
       "      <td>4658143</td>\n",
       "      <td>dsgdb9nsd_133884</td>\n",
       "      <td>17</td>\n",
       "      <td>5</td>\n",
       "      <td>3JHC</td>\n",
       "      <td>0.568997</td>\n",
       "    </tr>\n",
       "    <tr>\n",
       "      <th>4658144</th>\n",
       "      <td>4658144</td>\n",
       "      <td>dsgdb9nsd_133884</td>\n",
       "      <td>17</td>\n",
       "      <td>6</td>\n",
       "      <td>3JHC</td>\n",
       "      <td>1.173370</td>\n",
       "    </tr>\n",
       "    <tr>\n",
       "      <th>4658145</th>\n",
       "      <td>4658145</td>\n",
       "      <td>dsgdb9nsd_133884</td>\n",
       "      <td>17</td>\n",
       "      <td>7</td>\n",
       "      <td>2JHC</td>\n",
       "      <td>4.762010</td>\n",
       "    </tr>\n",
       "    <tr>\n",
       "      <th>4658146</th>\n",
       "      <td>4658146</td>\n",
       "      <td>dsgdb9nsd_133884</td>\n",
       "      <td>17</td>\n",
       "      <td>8</td>\n",
       "      <td>1JHC</td>\n",
       "      <td>117.934000</td>\n",
       "    </tr>\n",
       "  </tbody>\n",
       "</table>\n",
       "</div>"
      ],
      "text/plain": [
       "              id     molecule_name  atom_index_0  atom_index_1  type  \\\n",
       "4658142  4658142  dsgdb9nsd_133884            17             4  2JHC   \n",
       "4658143  4658143  dsgdb9nsd_133884            17             5  3JHC   \n",
       "4658144  4658144  dsgdb9nsd_133884            17             6  3JHC   \n",
       "4658145  4658145  dsgdb9nsd_133884            17             7  2JHC   \n",
       "4658146  4658146  dsgdb9nsd_133884            17             8  1JHC   \n",
       "\n",
       "         scalar_coupling_constant  \n",
       "4658142                  3.543450  \n",
       "4658143                  0.568997  \n",
       "4658144                  1.173370  \n",
       "4658145                  4.762010  \n",
       "4658146                117.934000  "
      ]
     },
     "execution_count": 13,
     "metadata": {},
     "output_type": "execute_result"
    }
   ],
   "source": [
    "train.tail()"
   ]
  },
  {
   "cell_type": "code",
   "execution_count": 14,
   "metadata": {},
   "outputs": [
    {
     "data": {
      "text/html": [
       "<div>\n",
       "<style scoped>\n",
       "    .dataframe tbody tr th:only-of-type {\n",
       "        vertical-align: middle;\n",
       "    }\n",
       "\n",
       "    .dataframe tbody tr th {\n",
       "        vertical-align: top;\n",
       "    }\n",
       "\n",
       "    .dataframe thead th {\n",
       "        text-align: right;\n",
       "    }\n",
       "</style>\n",
       "<table border=\"1\" class=\"dataframe\">\n",
       "  <thead>\n",
       "    <tr style=\"text-align: right;\">\n",
       "      <th></th>\n",
       "      <th>id</th>\n",
       "      <th>molecule_name</th>\n",
       "      <th>atom_index_0</th>\n",
       "      <th>atom_index_1</th>\n",
       "      <th>type</th>\n",
       "    </tr>\n",
       "  </thead>\n",
       "  <tbody>\n",
       "    <tr>\n",
       "      <th>0</th>\n",
       "      <td>4658147</td>\n",
       "      <td>dsgdb9nsd_000004</td>\n",
       "      <td>2</td>\n",
       "      <td>0</td>\n",
       "      <td>2JHC</td>\n",
       "    </tr>\n",
       "    <tr>\n",
       "      <th>1</th>\n",
       "      <td>4658148</td>\n",
       "      <td>dsgdb9nsd_000004</td>\n",
       "      <td>2</td>\n",
       "      <td>1</td>\n",
       "      <td>1JHC</td>\n",
       "    </tr>\n",
       "    <tr>\n",
       "      <th>2</th>\n",
       "      <td>4658149</td>\n",
       "      <td>dsgdb9nsd_000004</td>\n",
       "      <td>2</td>\n",
       "      <td>3</td>\n",
       "      <td>3JHH</td>\n",
       "    </tr>\n",
       "    <tr>\n",
       "      <th>3</th>\n",
       "      <td>4658150</td>\n",
       "      <td>dsgdb9nsd_000004</td>\n",
       "      <td>3</td>\n",
       "      <td>0</td>\n",
       "      <td>1JHC</td>\n",
       "    </tr>\n",
       "    <tr>\n",
       "      <th>4</th>\n",
       "      <td>4658151</td>\n",
       "      <td>dsgdb9nsd_000004</td>\n",
       "      <td>3</td>\n",
       "      <td>1</td>\n",
       "      <td>2JHC</td>\n",
       "    </tr>\n",
       "  </tbody>\n",
       "</table>\n",
       "</div>"
      ],
      "text/plain": [
       "        id     molecule_name  atom_index_0  atom_index_1  type\n",
       "0  4658147  dsgdb9nsd_000004             2             0  2JHC\n",
       "1  4658148  dsgdb9nsd_000004             2             1  1JHC\n",
       "2  4658149  dsgdb9nsd_000004             2             3  3JHH\n",
       "3  4658150  dsgdb9nsd_000004             3             0  1JHC\n",
       "4  4658151  dsgdb9nsd_000004             3             1  2JHC"
      ]
     },
     "execution_count": 14,
     "metadata": {},
     "output_type": "execute_result"
    }
   ],
   "source": [
    "test.head()"
   ]
  },
  {
   "cell_type": "code",
   "execution_count": 15,
   "metadata": {},
   "outputs": [
    {
     "data": {
      "text/plain": [
       "(2505542, 4658147)"
      ]
     },
     "execution_count": 15,
     "metadata": {},
     "output_type": "execute_result"
    }
   ],
   "source": [
    "len(test), len(train)"
   ]
  },
  {
   "cell_type": "code",
   "execution_count": 16,
   "metadata": {},
   "outputs": [
    {
     "data": {
      "text/plain": [
       "2358657"
      ]
     },
     "execution_count": 16,
     "metadata": {},
     "output_type": "execute_result"
    }
   ],
   "source": [
    "len(structures)"
   ]
  },
  {
   "cell_type": "markdown",
   "metadata": {},
   "source": [
    "Let's do something stupid and see how much it scores. I'll just average per-type coupling constant and see how much it scores."
   ]
  },
  {
   "cell_type": "code",
   "execution_count": 21,
   "metadata": {},
   "outputs": [],
   "source": [
    "coupling_types = coupling.type.unique()"
   ]
  },
  {
   "cell_type": "code",
   "execution_count": 22,
   "metadata": {},
   "outputs": [],
   "source": [
    "avg_coupling = train.groupby(['type'])['scalar_coupling_constant'].mean()"
   ]
  },
  {
   "cell_type": "code",
   "execution_count": 23,
   "metadata": {},
   "outputs": [
    {
     "data": {
      "text/plain": [
       "type\n",
       "1JHC    94.976153\n",
       "1JHN    47.479884\n",
       "2JHC    -0.270624\n",
       "2JHH   -10.286605\n",
       "2JHN     3.124754\n",
       "3JHC     3.688470\n",
       "3JHH     4.771023\n",
       "3JHN     0.990730\n",
       "Name: scalar_coupling_constant, dtype: float64"
      ]
     },
     "execution_count": 23,
     "metadata": {},
     "output_type": "execute_result"
    }
   ],
   "source": [
    "avg_coupling"
   ]
  },
  {
   "cell_type": "code",
   "execution_count": 24,
   "metadata": {},
   "outputs": [],
   "source": [
    "# test performance on train"
   ]
  },
  {
   "cell_type": "code",
   "execution_count": 25,
   "metadata": {},
   "outputs": [],
   "source": [
    "merged = train.copy()"
   ]
  },
  {
   "cell_type": "code",
   "execution_count": 26,
   "metadata": {},
   "outputs": [],
   "source": [
    "merged['scalar_coupling_constant'] = [avg_coupling[t] for t in merged['type']]"
   ]
  },
  {
   "cell_type": "code",
   "execution_count": 27,
   "metadata": {},
   "outputs": [],
   "source": [
    "merged['err'] = np.abs(merged.scalar_coupling_constant - train.scalar_coupling_constant)"
   ]
  },
  {
   "cell_type": "code",
   "execution_count": 28,
   "metadata": {},
   "outputs": [
    {
     "data": {
      "text/html": [
       "<div>\n",
       "<style scoped>\n",
       "    .dataframe tbody tr th:only-of-type {\n",
       "        vertical-align: middle;\n",
       "    }\n",
       "\n",
       "    .dataframe tbody tr th {\n",
       "        vertical-align: top;\n",
       "    }\n",
       "\n",
       "    .dataframe thead th {\n",
       "        text-align: right;\n",
       "    }\n",
       "</style>\n",
       "<table border=\"1\" class=\"dataframe\">\n",
       "  <thead>\n",
       "    <tr style=\"text-align: right;\">\n",
       "      <th></th>\n",
       "      <th>id</th>\n",
       "      <th>atom_index_0</th>\n",
       "      <th>atom_index_1</th>\n",
       "      <th>scalar_coupling_constant</th>\n",
       "      <th>err</th>\n",
       "    </tr>\n",
       "    <tr>\n",
       "      <th>type</th>\n",
       "      <th></th>\n",
       "      <th></th>\n",
       "      <th></th>\n",
       "      <th></th>\n",
       "      <th></th>\n",
       "    </tr>\n",
       "  </thead>\n",
       "  <tbody>\n",
       "    <tr>\n",
       "      <th>1JHC</th>\n",
       "      <td>2.346858e+06</td>\n",
       "      <td>13.388730</td>\n",
       "      <td>3.355607</td>\n",
       "      <td>94.976153</td>\n",
       "      <td>12.784318</td>\n",
       "    </tr>\n",
       "    <tr>\n",
       "      <th>1JHN</th>\n",
       "      <td>2.198234e+06</td>\n",
       "      <td>12.923160</td>\n",
       "      <td>3.895948</td>\n",
       "      <td>47.479884</td>\n",
       "      <td>9.731954</td>\n",
       "    </tr>\n",
       "    <tr>\n",
       "      <th>2JHC</th>\n",
       "      <td>2.298278e+06</td>\n",
       "      <td>13.711514</td>\n",
       "      <td>3.513953</td>\n",
       "      <td>-0.270624</td>\n",
       "      <td>2.715677</td>\n",
       "    </tr>\n",
       "    <tr>\n",
       "      <th>2JHH</th>\n",
       "      <td>2.438355e+06</td>\n",
       "      <td>12.199814</td>\n",
       "      <td>13.396058</td>\n",
       "      <td>-10.286605</td>\n",
       "      <td>2.672629</td>\n",
       "    </tr>\n",
       "    <tr>\n",
       "      <th>2JHN</th>\n",
       "      <td>2.252639e+06</td>\n",
       "      <td>13.286626</td>\n",
       "      <td>4.117029</td>\n",
       "      <td>3.124754</td>\n",
       "      <td>2.964396</td>\n",
       "    </tr>\n",
       "    <tr>\n",
       "      <th>3JHC</th>\n",
       "      <td>2.306329e+06</td>\n",
       "      <td>13.687490</td>\n",
       "      <td>3.868340</td>\n",
       "      <td>3.688470</td>\n",
       "      <td>2.488767</td>\n",
       "    </tr>\n",
       "    <tr>\n",
       "      <th>3JHH</th>\n",
       "      <td>2.392270e+06</td>\n",
       "      <td>12.710813</td>\n",
       "      <td>14.721878</td>\n",
       "      <td>4.771023</td>\n",
       "      <td>3.072281</td>\n",
       "    </tr>\n",
       "    <tr>\n",
       "      <th>3JHN</th>\n",
       "      <td>2.287087e+06</td>\n",
       "      <td>12.874573</td>\n",
       "      <td>4.554409</td>\n",
       "      <td>0.990730</td>\n",
       "      <td>0.966748</td>\n",
       "    </tr>\n",
       "  </tbody>\n",
       "</table>\n",
       "</div>"
      ],
      "text/plain": [
       "                id  atom_index_0  atom_index_1  scalar_coupling_constant  \\\n",
       "type                                                                       \n",
       "1JHC  2.346858e+06     13.388730      3.355607                 94.976153   \n",
       "1JHN  2.198234e+06     12.923160      3.895948                 47.479884   \n",
       "2JHC  2.298278e+06     13.711514      3.513953                 -0.270624   \n",
       "2JHH  2.438355e+06     12.199814     13.396058                -10.286605   \n",
       "2JHN  2.252639e+06     13.286626      4.117029                  3.124754   \n",
       "3JHC  2.306329e+06     13.687490      3.868340                  3.688470   \n",
       "3JHH  2.392270e+06     12.710813     14.721878                  4.771023   \n",
       "3JHN  2.287087e+06     12.874573      4.554409                  0.990730   \n",
       "\n",
       "            err  \n",
       "type             \n",
       "1JHC  12.784318  \n",
       "1JHN   9.731954  \n",
       "2JHC   2.715677  \n",
       "2JHH   2.672629  \n",
       "2JHN   2.964396  \n",
       "3JHC   2.488767  \n",
       "3JHH   3.072281  \n",
       "3JHN   0.966748  "
      ]
     },
     "execution_count": 28,
     "metadata": {},
     "output_type": "execute_result"
    }
   ],
   "source": [
    "merged.groupby('type').mean()"
   ]
  },
  {
   "cell_type": "code",
   "execution_count": 29,
   "metadata": {},
   "outputs": [],
   "source": [
    "# https://www.kaggle.com/uberkinder/efficient-metric\n",
    "def group_mean_log_mae(y_true, y_pred, types, floor=1e-9):\n",
    "    maes = (y_true-y_pred).abs().groupby(types).mean()\n",
    "    return np.log(maes.map(lambda x: max(x, floor))).mean()"
   ]
  },
  {
   "cell_type": "code",
   "execution_count": 30,
   "metadata": {},
   "outputs": [
    {
     "data": {
      "text/plain": [
       "1.2366001783502671"
      ]
     },
     "execution_count": 30,
     "metadata": {},
     "output_type": "execute_result"
    }
   ],
   "source": [
    "group_mean_log_mae(merged['scalar_coupling_constant'], train['scalar_coupling_constant'], train['type'])"
   ]
  },
  {
   "cell_type": "code",
   "execution_count": 58,
   "metadata": {},
   "outputs": [],
   "source": [
    "# submission"
   ]
  },
  {
   "cell_type": "code",
   "execution_count": null,
   "metadata": {},
   "outputs": [],
   "source": [
    "test['scalar_coupling_constant']  = [avg_coupling[t] for t in test['type']]\n",
    "test[['id', 'scalar_coupling_constant']].to_csv('submission.csv', index=False) #float_format='%.9f'"
   ]
  },
  {
   "cell_type": "code",
   "execution_count": 108,
   "metadata": {},
   "outputs": [
    {
     "data": {
      "text/html": [
       "<a href='1_average_coupling.csv' target='_blank'>1_average_coupling.csv</a><br>"
      ],
      "text/plain": [
       "/home/sunhwan/work/kaggle/champs-scalar-coupling/nbs/1_average_coupling.csv"
      ]
     },
     "execution_count": 108,
     "metadata": {},
     "output_type": "execute_result"
    }
   ],
   "source": [
    "from IPython.display import FileLink\n",
    "FileLink('1_average_coupling.csv')"
   ]
  },
  {
   "cell_type": "code",
   "execution_count": null,
   "metadata": {},
   "outputs": [],
   "source": []
  }
 ],
 "metadata": {
  "kernelspec": {
   "display_name": "Python 3",
   "language": "python",
   "name": "python3"
  },
  "language_info": {
   "codemirror_mode": {
    "name": "ipython",
    "version": 3
   },
   "file_extension": ".py",
   "mimetype": "text/x-python",
   "name": "python",
   "nbconvert_exporter": "python",
   "pygments_lexer": "ipython3",
   "version": "3.7.1"
  }
 },
 "nbformat": 4,
 "nbformat_minor": 2
}
